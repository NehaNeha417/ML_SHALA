{
  "nbformat": 4,
  "nbformat_minor": 0,
  "metadata": {
    "colab": {
      "name": "Untitled3.ipynb",
      "provenance": [],
      "authorship_tag": "ABX9TyOskEKYUituN0E+a9ZMBg3D",
      "include_colab_link": true
    },
    "kernelspec": {
      "name": "python3",
      "display_name": "Python 3"
    }
  },
  "cells": [
    {
      "cell_type": "markdown",
      "metadata": {
        "id": "view-in-github",
        "colab_type": "text"
      },
      "source": [
        "<a href=\"https://colab.research.google.com/github/NehaNeha417/ML_SHALA/blob/master/assignment_9_clustering.ipynb\" target=\"_parent\"><img src=\"https://colab.research.google.com/assets/colab-badge.svg\" alt=\"Open In Colab\"/></a>"
      ]
    },
    {
      "cell_type": "code",
      "metadata": {
        "id": "C7tSo-YiFbWc",
        "colab_type": "code",
        "outputId": "e6258f9d-ec03-4ce9-cf84-b9fab6b053db",
        "colab": {
          "base_uri": "https://localhost:8080/",
          "height": 71
        }
      },
      "source": [
        "import numpy as np\n",
        "import pandas as pd\n",
        "import matplotlib.pyplot as plt\n",
        "import seaborn as sns\n",
        "from sklearn.datasets import make_blobs\n",
        "from sklearn.cluster import KMeans\n",
        "from sklearn.model_selection import train_test_split\n",
        "from sklearn.cluster import AgglomerativeClustering\n",
        "import scipy.cluster.hierarchy as sch"
      ],
      "execution_count": 0,
      "outputs": [
        {
          "output_type": "stream",
          "text": [
            "/usr/local/lib/python3.6/dist-packages/statsmodels/tools/_testing.py:19: FutureWarning: pandas.util.testing is deprecated. Use the functions in the public API at pandas.testing instead.\n",
            "  import pandas.util.testing as tm\n"
          ],
          "name": "stderr"
        }
      ]
    },
    {
      "cell_type": "code",
      "metadata": {
        "id": "NGt41MwyFiuA",
        "colab_type": "code",
        "outputId": "fb8542b1-0f06-4607-cccf-c315edb66558",
        "colab": {
          "base_uri": "https://localhost:8080/",
          "height": 34
        }
      },
      "source": [
        "data = pd.read_csv('assignment_shala_clustering.csv')\n",
        "print(data.shape)"
      ],
      "execution_count": 0,
      "outputs": [
        {
          "output_type": "stream",
          "text": [
            "(200, 5)\n"
          ],
          "name": "stdout"
        }
      ]
    },
    {
      "cell_type": "code",
      "metadata": {
        "id": "lKWLbJcPFink",
        "colab_type": "code",
        "outputId": "d9fbeb8a-aa3a-4e43-d7ec-fc3fcc6345f1",
        "colab": {
          "base_uri": "https://localhost:8080/",
          "height": 419
        }
      },
      "source": [
        "data.head(200)"
      ],
      "execution_count": 0,
      "outputs": [
        {
          "output_type": "execute_result",
          "data": {
            "text/html": [
              "<div>\n",
              "<style scoped>\n",
              "    .dataframe tbody tr th:only-of-type {\n",
              "        vertical-align: middle;\n",
              "    }\n",
              "\n",
              "    .dataframe tbody tr th {\n",
              "        vertical-align: top;\n",
              "    }\n",
              "\n",
              "    .dataframe thead th {\n",
              "        text-align: right;\n",
              "    }\n",
              "</style>\n",
              "<table border=\"1\" class=\"dataframe\">\n",
              "  <thead>\n",
              "    <tr style=\"text-align: right;\">\n",
              "      <th></th>\n",
              "      <th>Gender</th>\n",
              "      <th>Age</th>\n",
              "      <th>Annual Income (k$)</th>\n",
              "      <th>Spending Score (1-100)</th>\n",
              "    </tr>\n",
              "  </thead>\n",
              "  <tbody>\n",
              "    <tr>\n",
              "      <th>0</th>\n",
              "      <td>Male</td>\n",
              "      <td>19</td>\n",
              "      <td>15</td>\n",
              "      <td>39</td>\n",
              "    </tr>\n",
              "    <tr>\n",
              "      <th>1</th>\n",
              "      <td>Male</td>\n",
              "      <td>21</td>\n",
              "      <td>15</td>\n",
              "      <td>81</td>\n",
              "    </tr>\n",
              "    <tr>\n",
              "      <th>2</th>\n",
              "      <td>Female</td>\n",
              "      <td>20</td>\n",
              "      <td>16</td>\n",
              "      <td>6</td>\n",
              "    </tr>\n",
              "    <tr>\n",
              "      <th>3</th>\n",
              "      <td>Female</td>\n",
              "      <td>23</td>\n",
              "      <td>16</td>\n",
              "      <td>77</td>\n",
              "    </tr>\n",
              "    <tr>\n",
              "      <th>4</th>\n",
              "      <td>Female</td>\n",
              "      <td>31</td>\n",
              "      <td>17</td>\n",
              "      <td>40</td>\n",
              "    </tr>\n",
              "    <tr>\n",
              "      <th>...</th>\n",
              "      <td>...</td>\n",
              "      <td>...</td>\n",
              "      <td>...</td>\n",
              "      <td>...</td>\n",
              "    </tr>\n",
              "    <tr>\n",
              "      <th>195</th>\n",
              "      <td>Female</td>\n",
              "      <td>35</td>\n",
              "      <td>120</td>\n",
              "      <td>79</td>\n",
              "    </tr>\n",
              "    <tr>\n",
              "      <th>196</th>\n",
              "      <td>Female</td>\n",
              "      <td>45</td>\n",
              "      <td>126</td>\n",
              "      <td>28</td>\n",
              "    </tr>\n",
              "    <tr>\n",
              "      <th>197</th>\n",
              "      <td>Male</td>\n",
              "      <td>32</td>\n",
              "      <td>126</td>\n",
              "      <td>74</td>\n",
              "    </tr>\n",
              "    <tr>\n",
              "      <th>198</th>\n",
              "      <td>Male</td>\n",
              "      <td>32</td>\n",
              "      <td>137</td>\n",
              "      <td>18</td>\n",
              "    </tr>\n",
              "    <tr>\n",
              "      <th>199</th>\n",
              "      <td>Male</td>\n",
              "      <td>30</td>\n",
              "      <td>137</td>\n",
              "      <td>83</td>\n",
              "    </tr>\n",
              "  </tbody>\n",
              "</table>\n",
              "<p>200 rows × 4 columns</p>\n",
              "</div>"
            ],
            "text/plain": [
              "     Gender  Age  Annual Income (k$)  Spending Score (1-100)\n",
              "0      Male   19                  15                      39\n",
              "1      Male   21                  15                      81\n",
              "2    Female   20                  16                       6\n",
              "3    Female   23                  16                      77\n",
              "4    Female   31                  17                      40\n",
              "..      ...  ...                 ...                     ...\n",
              "195  Female   35                 120                      79\n",
              "196  Female   45                 126                      28\n",
              "197    Male   32                 126                      74\n",
              "198    Male   32                 137                      18\n",
              "199    Male   30                 137                      83\n",
              "\n",
              "[200 rows x 4 columns]"
            ]
          },
          "metadata": {
            "tags": []
          },
          "execution_count": 40
        }
      ]
    },
    {
      "cell_type": "code",
      "metadata": {
        "id": "jqkxM0rgFig6",
        "colab_type": "code",
        "outputId": "324c7547-1531-4445-a170-eab28f116039",
        "colab": {
          "base_uri": "https://localhost:8080/",
          "height": 366
        }
      },
      "source": [
        "data.hist()"
      ],
      "execution_count": 0,
      "outputs": [
        {
          "output_type": "execute_result",
          "data": {
            "text/plain": [
              "array([[<matplotlib.axes._subplots.AxesSubplot object at 0x7f5c8dadc320>,\n",
              "        <matplotlib.axes._subplots.AxesSubplot object at 0x7f5c8da5cba8>],\n",
              "       [<matplotlib.axes._subplots.AxesSubplot object at 0x7f5c8da0de10>,\n",
              "        <matplotlib.axes._subplots.AxesSubplot object at 0x7f5c8da490b8>]],\n",
              "      dtype=object)"
            ]
          },
          "metadata": {
            "tags": []
          },
          "execution_count": 13
        },
        {
          "output_type": "display_data",
          "data": {
            "image/png": "[encoded data removed]",
            "text/plain": [
              "<Figure size 432x288 with 4 Axes>"
            ]
          },
          "metadata": {
            "tags": [],
            "needs_background": "light"
          }
        }
      ]
    },
    {
      "cell_type": "code",
      "metadata": {
        "id": "hzrG_MTkJbM4",
        "colab_type": "code",
        "colab": {}
      },
      "source": [
        "data.drop(['CustomerID'], axis=1,inplace=True)"
      ],
      "execution_count": 0,
      "outputs": []
    },
    {
      "cell_type": "code",
      "metadata": {
        "id": "sXNMnRSOMpEv",
        "colab_type": "code",
        "colab": {}
      },
      "source": [
        ""
      ],
      "execution_count": 0,
      "outputs": []
    },
    {
      "cell_type": "code",
      "metadata": {
        "id": "G_XoQeOaFiGH",
        "colab_type": "code",
        "outputId": "bb097be9-239d-4fdd-d86f-ddfbd906328a",
        "colab": {
          "base_uri": "https://localhost:8080/",
          "height": 309
        }
      },
      "source": [
        "plt.figure(figsize=(10,5))\n",
        "plt.subplot(1,2,1)\n",
        "sns.boxplot(y=data[\"Annual Income (k$)\"],color='red')\n",
        "plt.ylim(0-140)\n",
        "plt.subplot(1,2,2)\n",
        "sns.boxplot(y=data[\"Spending Score (1-100)\"],color='blue')\n",
        "plt.ylim(0-100)\n",
        "plt.show()\n"
      ],
      "execution_count": 0,
      "outputs": [
        {
          "output_type": "display_data",
          "data": {
            "image/png": "[encoded data removed]",
            "text/plain": [
              "<Figure size 720x360 with 2 Axes>"
            ]
          },
          "metadata": {
            "tags": [],
            "needs_background": "light"
          }
        }
      ]
    },
    {
      "cell_type": "code",
      "metadata": {
        "id": "IybIy7elMrIJ",
        "colab_type": "code",
        "outputId": "6272d6a4-9a08-4f35-db00-abaf40127f52",
        "colab": {
          "base_uri": "https://localhost:8080/",
          "height": 325
        }
      },
      "source": [
        "plt.figure(figsize=(10,5))\n",
        "sns.violinplot(y=data['Age'])\n",
        "plt.title('Age')\n",
        "plt.ylim(20-100)\n",
        "plt.ylabel('Age')\n",
        "plt.show()"
      ],
      "execution_count": 0,
      "outputs": [
        {
          "output_type": "display_data",
          "data": {
            "image/png": "[encoded data removed]",
            "text/plain": [
              "<Figure size 720x360 with 1 Axes>"
            ]
          },
          "metadata": {
            "tags": [],
            "needs_background": "light"
          }
        }
      ]
    },
    {
      "cell_type": "code",
      "metadata": {
        "id": "ZBdd2giFNdPR",
        "colab_type": "code",
        "outputId": "3ac00cfd-569e-429d-a69d-58665264b2b3",
        "colab": {
          "base_uri": "https://localhost:8080/",
          "height": 68
        }
      },
      "source": [
        "gender=data.Gender.value_counts()\n",
        "print(gender)"
      ],
      "execution_count": 0,
      "outputs": [
        {
          "output_type": "stream",
          "text": [
            "Female    112\n",
            "Male       88\n",
            "Name: Gender, dtype: int64\n"
          ],
          "name": "stdout"
        }
      ]
    },
    {
      "cell_type": "code",
      "metadata": {
        "id": "mkO3W8nQNdL-",
        "colab_type": "code",
        "outputId": "8198017a-18ff-4a9b-f77f-70414d5dbf5e",
        "colab": {
          "base_uri": "https://localhost:8080/",
          "height": 282
        }
      },
      "source": [
        "sns.barplot(x=gender.index,y=gender.values)"
      ],
      "execution_count": 0,
      "outputs": [
        {
          "output_type": "execute_result",
          "data": {
            "text/plain": [
              "<matplotlib.axes._subplots.AxesSubplot at 0x7f5c8889a6d8>"
            ]
          },
          "metadata": {
            "tags": []
          },
          "execution_count": 33
        },
        {
          "output_type": "display_data",
          "data": {
            "image/png": "[encoded data removed]",
            "text/plain": [
              "<Figure size 432x288 with 1 Axes>"
            ]
          },
          "metadata": {
            "tags": [],
            "needs_background": "light"
          }
        }
      ]
    },
    {
      "cell_type": "code",
      "metadata": {
        "id": "jzczmK1ZNdIR",
        "colab_type": "code",
        "outputId": "0511a2f9-d451-4724-f086-ef97749670be",
        "colab": {
          "base_uri": "https://localhost:8080/",
          "height": 282
        }
      },
      "source": [
        "age18_25 = data.Age[(data.Age>=18) & (data.Age<=25)]\n",
        "age26_35 = data.Age[(data.Age>=26) & (data.Age<=35)]\n",
        "age36_45 = data.Age[(data.Age>=36) & (data.Age<=45)]\n",
        "age46_55 = data.Age[(data.Age>=46) & (data.Age<=55)]\n",
        "age_above56 = data.Age[(data.Age>=56)]\n",
        "\n",
        "x = ['18-25','26-35','36-45','46-55','55+']\n",
        "y = [len(age18_25.values),len(age26_35.values),len(age36_45.values),len(age46_55.values),len(age_above56.values)]\n",
        "sns.barplot(x,y)\n",
        "\n"
      ],
      "execution_count": 0,
      "outputs": [
        {
          "output_type": "execute_result",
          "data": {
            "text/plain": [
              "<matplotlib.axes._subplots.AxesSubplot at 0x7f5c8881bb70>"
            ]
          },
          "metadata": {
            "tags": []
          },
          "execution_count": 39
        },
        {
          "output_type": "display_data",
          "data": {
            "image/png": "[encoded data removed]",
            "text/plain": [
              "<Figure size 432x288 with 1 Axes>"
            ]
          },
          "metadata": {
            "tags": [],
            "needs_background": "light"
          }
        }
      ]
    },
    {
      "cell_type": "markdown",
      "metadata": {
        "id": "nUOoN7ppW8ZV",
        "colab_type": "text"
      },
      "source": [
        ""
      ]
    },
    {
      "cell_type": "code",
      "metadata": {
        "id": "8Ma1jbPuNdFq",
        "colab_type": "code",
        "outputId": "c9bb14b7-e9a4-48e5-8d4a-6be873cb5e0f",
        "colab": {
          "base_uri": "https://localhost:8080/",
          "height": 282
        }
      },
      "source": [
        "ss0_20 = data[\"Spending Score (1-100)\"][(data[\"Spending Score (1-100)\"] <=20)]\n",
        "ss21_40 = data[\"Spending Score (1-100)\"][(data[\"Spending Score (1-100)\"] >=21) & (data[\"Spending Score (1-100)\"]<=40)]\n",
        "ss41_60 = data[\"Spending Score (1-100)\"][(data[\"Spending Score (1-100)\"] >=41) & (data[\"Spending Score (1-100)\"]<=60)]\n",
        "ss611_80 = data[\"Spending Score (1-100)\"][(data[\"Spending Score (1-100)\"] >=61) & (data[\"Spending Score (1-100)\"]<=80)]\n",
        "ss81_100 = data[\"Spending Score (1-100)\"][(data[\"Spending Score (1-100)\"] >=81) & (data[\"Spending Score (1-100)\"]<=100)]\n",
        "x = ['0-20','21-40','41-60','61-80','81-100']\n",
        "y = [len(ss0_20.values),len(ss21_40.values),len(ss41_60.values),len(ss61_80.values),len(ss81_100.values)]\n",
        "sns.barplot(x,y)"
      ],
      "execution_count": 0,
      "outputs": [
        {
          "output_type": "execute_result",
          "data": {
            "text/plain": [
              "<matplotlib.axes._subplots.AxesSubplot at 0x7f5c887035c0>"
            ]
          },
          "metadata": {
            "tags": []
          },
          "execution_count": 52
        },
        {
          "output_type": "display_data",
          "data": {
            "image/png": "[encoded data removed]",
            "text/plain": [
              "<Figure size 432x288 with 1 Axes>"
            ]
          },
          "metadata": {
            "tags": [],
            "needs_background": "light"
          }
        }
      ]
    },
    {
      "cell_type": "code",
      "metadata": {
        "id": "XzwZ0XOrNc75",
        "colab_type": "code",
        "outputId": "0bbe2d11-52d8-40ad-a0a7-aa54d167d840",
        "colab": {
          "base_uri": "https://localhost:8080/",
          "height": 388
        }
      },
      "source": [
        "from sklearn.cluster import KMeans\n",
        "wcss = []\n",
        "for k in range(1,11):\n",
        "    kmeans = KMeans(n_clusters=k, init=\"k-means++\")\n",
        "    kmeans.fit(data.iloc[:,1:])\n",
        "    wcss.append(kmeans.inertia_)\n",
        "plt.figure(figsize=(12,6))    \n",
        "plt.grid()\n",
        "plt.plot(range(1,11),wcss, linewidth=2, color=\"red\", marker =\"8\")\n",
        "plt.xlabel(\"K Value\")\n",
        "plt.xticks(np.arange(1,11,1))\n",
        "plt.ylabel(\"WCSS\")\n",
        "plt.show()"
      ],
      "execution_count": 0,
      "outputs": [
        {
          "output_type": "display_data",
          "data": {
            "image/png": "[encoded data removed]",
            "text/plain": [
              "<Figure size 864x432 with 1 Axes>"
            ]
          },
          "metadata": {
            "tags": [],
            "needs_background": "light"
          }
        }
      ]
    }
  ]
}